{
 "cells": [
  {
   "cell_type": "code",
   "execution_count": 14,
   "metadata": {},
   "outputs": [
    {
     "name": "stdout",
     "output_type": "stream",
     "text": [
      "['- Le code des impôts indirects comporte l’ensemble des dispositions légales relatives aux produitsperçus au profit de l’Etat ou des collectivités locales et compris sous le terme générique d’impôts indirects.', 'Outre la taxe sur la valeur ajoutée :− les alcools, les vins et autres boissons assimilées supportent, un droit de circulation ;− les ouvrages d’or, d’argent et de platine supportent un droit de garantie.Ces droits sont perçus au profit du budget de l’Etat, selon les règles fixées par le présent code.Les ouvrages d’or d’argent et de platine supportent, au profit du budget de l’Etat et selon les règles fixées parle présent code, un droit spécifique unique intitulé «droit de garantie».1', '- Les règles posées par les articles 4 à 46 qui suivent sont d’application générale. Toutefois, desdispositions spéciales à chacun des produits peuvent les compléter ou y déroger.2', 'Les personnes fabriquant les produits imposables ainsi que celles en faisant le commerce et, qui dansle présent code sont désignées sous le vocable d’assujettis, doivent dans les dix jours précédant le début deleurs opérations, faire une déclaration de profession auprès de l’inspection des impôts indirects et des taxessur le chiffre d’affaires du lieu où s’exerce l’activité.Cette déclaration est certifiée, datée et signée, soit par le déclarant, soit par son mandataire justifiant d’unpouvoir régulier qui reste annexé à la déclaration.En ce qui concerne les sociétés, la déclaration doit être appuyée d’un exemplaire certifié conforme desstatuts, de la signature légalisée du gérant ou du directeur et lorsque ces derniers ne sont pas statutaires, dela délibération du conseil d’administration ou de l’assemblée d’actionnaires qui les a désignés.Il en est donné récépissé.', '- la déclaration prévue par l’article 4 ci- dessus, doit comporter :a) les nom, prénoms ou raison sociale et le domicile du déclarant ;b) la nature d’activité projetée ;c) l’emplacement du ou des établissements dont l’exploitation est envisagée ;d) éventuellement, le matériel affecté à l’activité du déclarant et les quantités de produits imposables ou dematières premières détenues par lui.Une nouvelle déclaration est nécessaire 48 heures avant toute modification apportée à l’un des éléments visésau présent article.Une déclaration préalable est également obligatoire en cas de cessation d’activité.']\n",
      "Embedding dimension: 1024\n",
      "Faiss index size: 15171\n"
     ]
    }
   ],
   "source": [
    "\n",
    "import ollama\n",
    "import json\n",
    "import numpy as np\n",
    "import faiss\n",
    "from langchain.text_splitter import RecursiveCharacterTextSplitter\n",
    "\n",
    "# 1. Prepare Documents\n",
    "with open(\"laws_json\\\\All_laws.json\", \"r\", encoding=\"utf-8\") as file:\n",
    "    laws = json.load(file)\n",
    "documents = [str(l[list(l.keys())[0]]) for l in laws]\n",
    "print(documents[0:5])\n",
    "\n",
    "# Save documents to a text file (for demonstration)\n",
    "with open(\"data.txt\", \"w\", encoding=\"utf-8\") as f:\n",
    "    f.write(\"\\n\".join(documents))\n",
    "\n",
    "# 2. Document Processing: Split the text into chunks\n",
    "def chunk_documents():\n",
    "    with open(\"data.txt\", encoding=\"utf-8\") as f:\n",
    "        text = f.read()\n",
    "    \n",
    "    text_splitter = RecursiveCharacterTextSplitter(\n",
    "        chunk_size=300,\n",
    "        chunk_overlap=50,\n",
    "        length_function=len\n",
    "    )\n",
    "    return text_splitter.split_text(text)\n",
    "\n",
    "chunks = chunk_documents()\n",
    "\n",
    "# 3. Compute Embeddings for Each Chunk Using Ollama\n",
    "# You may want to do this in batches if you have many chunks.\n",
    "all_embeddings = []\n",
    "for chunk in chunks:\n",
    "    response = ollama.embeddings(\n",
    "        model=\"snowflake-arctic-embed2\",\n",
    "        prompt=chunk\n",
    "    )\n",
    "    embedding = response[\"embedding\"]\n",
    "    # Optionally, check that embedding is non-empty.\n",
    "    if not embedding:\n",
    "        print(\"Empty embedding for chunk:\", chunk[:100])\n",
    "        continue\n",
    "    all_embeddings.append(embedding)\n",
    "\n",
    "# Convert the list of embeddings to a numpy array with type float32.\n",
    "embeddings_np = np.array(all_embeddings, dtype=np.float32)\n",
    "\n",
    "# Determine embedding dimension (assumes all embeddings have same dimension)\n",
    "embedding_dim = embeddings_np.shape[1]\n",
    "print(f\"Embedding dimension: {embedding_dim}\")\n",
    "\n",
    "# 4. Build a Faiss Index\n",
    "# Here we use a simple IndexFlatL2 for L2 distance (you can choose other indexes for larger datasets)\n",
    "index = faiss.IndexFlatL2(embedding_dim)\n",
    "index.add(embeddings_np)\n",
    "print(f\"Faiss index size: {index.ntotal}\")\n",
    "\n",
    "# 5. Mapping: Keep track of the chunks corresponding to the embeddings.\n",
    "# (Assuming no filtering happened; otherwise, adjust the mapping accordingly.)\n",
    "indexed_chunks = chunks[:len(all_embeddings)]\n",
    "\n",
    "# 6. Querying Function Using Faiss\n"
   ]
  },
  {
   "cell_type": "code",
   "execution_count": null,
   "metadata": {},
   "outputs": [
    {
     "name": "stdout",
     "output_type": "stream",
     "text": [
      "Question: c'est combien les taxes relative a l'achat des avions\n",
      "---------------Context---------------\n",
      "redevable doit déférer à plusieurs avis à tiers détenteursémanant respectivement de comptables chargés du recouvrement des impôts directs et des taxes sur lechiffre d‘affaires, il doit, en cas d‘insuffisance de ces deniers, exécuter les avis en proportion de leursmontants respectifs.Les\n",
      "\n",
      "Lorsque les ventes et livraisons de biens meubles d‘occasions et assimilés sont effectuéespar un assujetti revendeur, la taxe est liquidée sur la marge déterminée par la différence entre le prixde vente TTC et le prix d‘achat TTC à condition que lesdits biens soient acquis auprès :- des\n",
      "\n",
      "- Dans les abattoirs où le pesage des animaux avant l’abattage est seul possible, le poids net devant servir debase au calcul de la taxe est déterminé en appliquant au poids vif les pourcentages suivants :− 50 %, pour les ovidés, équidés et camelins ;− 50 %, pour les bœufs et taureaux ;− 55 %, pour\n",
      "Answer:  The provided context doesn't explicitly mention the taxation for aircraft purchases. However, it discusses taxes on sales of second-hand goods and livestock. If we look for similarities, we can see that there is a tax calculated based on the difference between the selling price (TTC) and the buying price (TTC). If we consider an aircraft as a large machinery or equipment, one could infer that it might be subject to similar taxes, but this is just an inference since the provided context doesn't directly relate to aircraft purchases.\n"
     ]
    }
   ],
   "source": [
    "def rag_query(query: str, temperature: float = 0.7):\n",
    "    # Compute embedding for the query\n",
    "    query_embedding = ollama.embeddings(\n",
    "        model=\"snowflake-arctic-embed2\",\n",
    "        prompt=query\n",
    "    )[\"embedding\"]\n",
    "    query_vector = np.array([query_embedding], dtype=np.float32)\n",
    "    \n",
    "    # Search the Faiss index for the 3 nearest neighbors\n",
    "    k = 3\n",
    "    distances, indices = index.search(query_vector, k)\n",
    "    \n",
    "    # Retrieve corresponding document chunks using the indices\n",
    "    context_chunks = [indexed_chunks[i] for i in indices[0]]\n",
    "    context = \"\\n\\n\".join(context_chunks)\n",
    "    print(\"---------------Context---------------\")\n",
    "    print(context)\n",
    "    \n",
    "    # Generate answer using Ollama with retrieved context\n",
    "    response = ollama.generate(\n",
    "        model=\"mistral:latest\",\n",
    "        prompt=f\"\"\"Answer the question using only this context:\n",
    "        {context}\n",
    "\n",
    "        Question: {query}\n",
    "        Answer:\"\"\"\n",
    "    )\n",
    "    \n",
    "    return response[\"response\"]\n",
    "\n",
    "query = \"c'est combien les taxes relative a l'achat des avions\"\n",
    "print(\"Question:\", query)\n",
    "print(\"Answer:\", rag_query(query))\n"
   ]
  }
 ],
 "metadata": {
  "kernelspec": {
   "display_name": "Python 3",
   "language": "python",
   "name": "python3"
  },
  "language_info": {
   "codemirror_mode": {
    "name": "ipython",
    "version": 3
   },
   "file_extension": ".py",
   "mimetype": "text/x-python",
   "name": "python",
   "nbconvert_exporter": "python",
   "pygments_lexer": "ipython3",
   "version": "3.11.9"
  }
 },
 "nbformat": 4,
 "nbformat_minor": 2
}
